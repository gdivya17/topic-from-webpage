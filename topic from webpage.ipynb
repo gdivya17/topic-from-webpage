{
 "cells": [
  {
   "cell_type": "code",
   "execution_count": null,
   "metadata": {},
   "outputs": [],
   "source": [
    "import re\n",
    "from requests import get\n",
    "from bs4 import BeautifulSoup\n",
    "from nltk.corpus import stopwords\n",
    "from nltk.tokenize import word_tokenize\n",
    "from nltk.stem.wordnet import WordNetLemmatizer\n",
    "from sklearn.feature_extraction.text import CountVectorizer\n",
    "from sklearn.metrics.pairwise import cosine_similarity\n",
    "from wordsegment import load, segment\n",
    "load()\n",
    "stop_words = set(stopwords.words('english'))\n",
    "\n",
    "\n",
    "#function for normalizing the text data    \n",
    "#input: string; output: string\n",
    "def processed(phrase):\n",
    "    lemmatizer = WordNetLemmatizer() \n",
    "    phrase=phrase.lower()\n",
    "    phrase=' '.join(segment(phrase))\n",
    "    phrase = re.sub('[^A-Za-z0-9]+', '  ', phrase)\n",
    "    word_tokens = word_tokenize(phrase)\n",
    "    filtered_sentence = [lemmatizer.lemmatize(w, pos='v') for w in word_tokens if not w in stop_words]\n",
    "    filtered_sentence = [lemmatizer.lemmatize(w, pos='a') for w in filtered_sentence]\n",
    "    filtered_sentence = [lemmatizer.lemmatize(w, pos='n') for w in filtered_sentence]\n",
    "    phrase=' '.join(filtered_sentence)\n",
    "    phrase = re.sub('[0-9]+', '', phrase)\n",
    "    return phrase\n",
    "\n",
    "def index_function(url):\n",
    "    raw_data=[]\n",
    "    raw = get(url) \n",
    "    raw_data.append(raw.content)\n",
    "    content=[]\n",
    "    soup = BeautifulSoup(raw_data[0], 'html.parser')\n",
    "    for j in soup.find_all(['a','p','title','div','h1','h2','h3','h4']):\n",
    "        content.append(j.get_text())\n",
    "    processed_data=[]\n",
    "    s=''\n",
    "    for j in content:\n",
    "        s=s+str(processed(j))\n",
    "    processed_data.append(s)\n",
    "    return(processed_data)\n",
    "\n",
    "processed_data=index_function('https://www.olacabs.com/')\n",
    "\n",
    "count_vect = CountVectorizer(ngram_range=(2,3))\n",
    "sparse_matrix1=count_vect.fit_transform(processed_data)\n",
    "\n",
    "sum_words = sparse_matrix1.sum(axis=0)\n",
    "words_freq = [(word, sum_words[0, idx]) for word, idx in count_vect.vocabulary_.items()]\n",
    "words_freq =sorted(words_freq, key = lambda x: x[1], reverse=True)\n",
    "print(words_freq[0][0])"
   ]
  }
 ],
 "metadata": {
  "kernelspec": {
   "display_name": "Python 3",
   "language": "python",
   "name": "python3"
  },
  "language_info": {
   "codemirror_mode": {
    "name": "ipython",
    "version": 3
   },
   "file_extension": ".py",
   "mimetype": "text/x-python",
   "name": "python",
   "nbconvert_exporter": "python",
   "pygments_lexer": "ipython3",
   "version": "3.6.5"
  }
 },
 "nbformat": 4,
 "nbformat_minor": 2
}
